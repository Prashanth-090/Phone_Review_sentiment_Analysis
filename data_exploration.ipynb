{
 "cells": [
  {
   "cell_type": "code",
   "execution_count": 1,
   "metadata": {},
   "outputs": [
    {
     "name": "stdout",
     "output_type": "stream",
     "text": [
      "/Users/prashanthbandari/iphone_sentiment_analysis\n"
     ]
    }
   ],
   "source": [
    "import os\n",
    "print(os.getcwd())  # Ensure it matches the dataset path\n",
    "\n"
   ]
  },
  {
   "cell_type": "code",
   "execution_count": 2,
   "metadata": {},
   "outputs": [
    {
     "name": "stdout",
     "output_type": "stream",
     "text": [
      "iphonexreview.csv\n"
     ]
    }
   ],
   "source": [
    "ls data/\n"
   ]
  },
  {
   "cell_type": "code",
   "execution_count": 5,
   "metadata": {},
   "outputs": [
    {
     "name": "stdout",
     "output_type": "stream",
     "text": [
      "<class 'pandas.core.frame.DataFrame'>\n",
      "RangeIndex: 2000 entries, 0 to 1999\n",
      "Data columns (total 4 columns):\n",
      " #   Column      Non-Null Count  Dtype \n",
      "---  ------      --------------  ----- \n",
      " 0   Unnamed: 0  2000 non-null   int64 \n",
      " 1   Date        2000 non-null   object\n",
      " 2   Review      2000 non-null   object\n",
      " 3   UserName    2000 non-null   object\n",
      "dtypes: int64(1), object(3)\n",
      "memory usage: 62.6+ KB\n",
      "None\n",
      "   Unnamed: 0         Date                                             Review  \\\n",
      "0           0  16 Jan 2018  mir, 16 Jan 2018My Huawei Mate 10 Pro is alrea...   \n",
      "1           1  16 Jan 2018  This month it fell from 1149Â? to 999Â? in Ger...   \n",
      "2           2  16 Jan 2018  chopp, 16 Jan 2018hey guys iam confused betwee...   \n",
      "3           3  16 Jan 2018  chopp, 16 Jan 2018hey guys iam confused betwee...   \n",
      "4           4  16 Jan 2018  hey guys iam confused between buying iphone x ...   \n",
      "\n",
      "    UserName  \n",
      "0      Mr No  \n",
      "1  Anonymous  \n",
      "2  Anonymous  \n",
      "3       Tony  \n",
      "4  Anonymous  \n"
     ]
    }
   ],
   "source": [
    "import pandas as pd\n",
    "import os\n",
    "\n",
    "# Ensure correct file path\n",
    "data_path = \"/Users/prashanthbandari/iphone_sentiment_analysis/data/iphonexreview.csv\"\n",
    "\n",
    "# Check if the file exists before loading\n",
    "if not os.path.exists(data_path):\n",
    "    raise FileNotFoundError(f\"Dataset not found at {data_path}. Ensure it's downloaded.\")\n",
    "\n",
    "# Load dataset\n",
    "df = pd.read_csv(data_path, encoding=\"ISO-8859-1\")  # or encoding=\"latin1\"\n",
    "\n",
    "\n",
    "# Display dataset info\n",
    "print(df.info())\n",
    "print(df.head())\n"
   ]
  },
  {
   "cell_type": "code",
   "execution_count": 7,
   "metadata": {},
   "outputs": [
    {
     "data": {
      "text/html": [
       "<div>\n",
       "<style scoped>\n",
       "    .dataframe tbody tr th:only-of-type {\n",
       "        vertical-align: middle;\n",
       "    }\n",
       "\n",
       "    .dataframe tbody tr th {\n",
       "        vertical-align: top;\n",
       "    }\n",
       "\n",
       "    .dataframe thead th {\n",
       "        text-align: right;\n",
       "    }\n",
       "</style>\n",
       "<table border=\"1\" class=\"dataframe\">\n",
       "  <thead>\n",
       "    <tr style=\"text-align: right;\">\n",
       "      <th></th>\n",
       "      <th>Unnamed: 0</th>\n",
       "      <th>Date</th>\n",
       "      <th>Review</th>\n",
       "      <th>UserName</th>\n",
       "    </tr>\n",
       "  </thead>\n",
       "  <tbody>\n",
       "    <tr>\n",
       "      <th>0</th>\n",
       "      <td>0</td>\n",
       "      <td>16 Jan 2018</td>\n",
       "      <td>mir, 16 Jan 2018My Huawei Mate 10 Pro is alrea...</td>\n",
       "      <td>Mr No</td>\n",
       "    </tr>\n",
       "    <tr>\n",
       "      <th>1</th>\n",
       "      <td>1</td>\n",
       "      <td>16 Jan 2018</td>\n",
       "      <td>This month it fell from 1149Â? to 999Â? in Ger...</td>\n",
       "      <td>Anonymous</td>\n",
       "    </tr>\n",
       "    <tr>\n",
       "      <th>2</th>\n",
       "      <td>2</td>\n",
       "      <td>16 Jan 2018</td>\n",
       "      <td>chopp, 16 Jan 2018hey guys iam confused betwee...</td>\n",
       "      <td>Anonymous</td>\n",
       "    </tr>\n",
       "    <tr>\n",
       "      <th>3</th>\n",
       "      <td>3</td>\n",
       "      <td>16 Jan 2018</td>\n",
       "      <td>chopp, 16 Jan 2018hey guys iam confused betwee...</td>\n",
       "      <td>Tony</td>\n",
       "    </tr>\n",
       "    <tr>\n",
       "      <th>4</th>\n",
       "      <td>4</td>\n",
       "      <td>16 Jan 2018</td>\n",
       "      <td>hey guys iam confused between buying iphone x ...</td>\n",
       "      <td>Anonymous</td>\n",
       "    </tr>\n",
       "  </tbody>\n",
       "</table>\n",
       "</div>"
      ],
      "text/plain": [
       "   Unnamed: 0         Date                                             Review  \\\n",
       "0           0  16 Jan 2018  mir, 16 Jan 2018My Huawei Mate 10 Pro is alrea...   \n",
       "1           1  16 Jan 2018  This month it fell from 1149Â? to 999Â? in Ger...   \n",
       "2           2  16 Jan 2018  chopp, 16 Jan 2018hey guys iam confused betwee...   \n",
       "3           3  16 Jan 2018  chopp, 16 Jan 2018hey guys iam confused betwee...   \n",
       "4           4  16 Jan 2018  hey guys iam confused between buying iphone x ...   \n",
       "\n",
       "    UserName  \n",
       "0      Mr No  \n",
       "1  Anonymous  \n",
       "2  Anonymous  \n",
       "3       Tony  \n",
       "4  Anonymous  "
      ]
     },
     "execution_count": 7,
     "metadata": {},
     "output_type": "execute_result"
    }
   ],
   "source": [
    "df.head()"
   ]
  },
  {
   "cell_type": "code",
   "execution_count": null,
   "metadata": {},
   "outputs": [],
   "source": []
  }
 ],
 "metadata": {
  "kernelspec": {
   "display_name": "Python 3 (ipykernel)",
   "language": "python",
   "name": "python3"
  },
  "language_info": {
   "codemirror_mode": {
    "name": "ipython",
    "version": 3
   },
   "file_extension": ".py",
   "mimetype": "text/x-python",
   "name": "python",
   "nbconvert_exporter": "python",
   "pygments_lexer": "ipython3",
   "version": "3.13.1"
  }
 },
 "nbformat": 4,
 "nbformat_minor": 4
}
