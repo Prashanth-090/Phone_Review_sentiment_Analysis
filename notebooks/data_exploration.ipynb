{
 "cells": [
  {
   "cell_type": "code",
   "execution_count": 1,
   "metadata": {},
   "outputs": [
    {
     "name": "stdout",
     "output_type": "stream",
     "text": [
      "/Users/prashanthbandari/iphone_sentiment_analysis\n"
     ]
    }
   ],
   "source": [
    "import os\n",
    "print(os.getcwd())  # Ensure it matches the dataset path\n",
    "\n"
   ]
  },
  {
   "cell_type": "code",
   "execution_count": 2,
   "metadata": {},
   "outputs": [
    {
     "name": "stdout",
     "output_type": "stream",
     "text": [
      "iphonexreview.csv\n"
     ]
    }
   ],
   "source": [
    "ls data/\n"
   ]
  },
  {
   "cell_type": "code",
   "execution_count": 5,
   "metadata": {},
   "outputs": [
    {
     "name": "stdout",
     "output_type": "stream",
     "text": [
      "<class 'pandas.core.frame.DataFrame'>\n",
      "RangeIndex: 2000 entries, 0 to 1999\n",
      "Data columns (total 4 columns):\n",
      " #   Column      Non-Null Count  Dtype \n",
      "---  ------      --------------  ----- \n",
      " 0   Unnamed: 0  2000 non-null   int64 \n",
      " 1   Date        2000 non-null   object\n",
      " 2   Review      2000 non-null   object\n",
      " 3   UserName    2000 non-null   object\n",
      "dtypes: int64(1), object(3)\n",
      "memory usage: 62.6+ KB\n",
      "None\n",
      "   Unnamed: 0         Date                                             Review  \\\n",
      "0           0  16 Jan 2018  mir, 16 Jan 2018My Huawei Mate 10 Pro is alrea...   \n",
      "1           1  16 Jan 2018  This month it fell from 1149Â? to 999Â? in Ger...   \n",
      "2           2  16 Jan 2018  chopp, 16 Jan 2018hey guys iam confused betwee...   \n",
      "3           3  16 Jan 2018  chopp, 16 Jan 2018hey guys iam confused betwee...   \n",
      "4           4  16 Jan 2018  hey guys iam confused between buying iphone x ...   \n",
      "\n",
      "    UserName  \n",
      "0      Mr No  \n",
      "1  Anonymous  \n",
      "2  Anonymous  \n",
      "3       Tony  \n",
      "4  Anonymous  \n"
     ]
    }
   ],
   "source": [
    "import pandas as pd\n",
    "import os\n",
    "\n",
    "# Ensure correct file path\n",
    "data_path = \"/Users/prashanthbandari/iphone_sentiment_analysis/data/iphonexreview.csv\"\n",
    "\n",
    "# Check if the file exists before loading\n",
    "if not os.path.exists(data_path):\n",
    "    raise FileNotFoundError(f\"Dataset not found at {data_path}. Ensure it's downloaded.\")\n",
    "\n",
    "# Load dataset\n",
    "df = pd.read_csv(data_path, encoding=\"ISO-8859-1\")  # or encoding=\"latin1\"\n",
    "\n",
    "\n",
    "# Display dataset info\n",
    "print(df.info())\n",
    "print(df.head())\n"
   ]
  },
  {
   "cell_type": "code",
   "execution_count": 1,
   "metadata": {},
   "outputs": [
    {
     "name": "stdout",
     "output_type": "stream",
     "text": [
      "Columns in dataset: Index(['Unnamed: 0', 'Date', 'Review', 'UserName'], dtype='object')\n",
      "   Unnamed: 0         Date                                             Review  \\\n",
      "0           0  16 Jan 2018  mir, 16 Jan 2018My Huawei Mate 10 Pro is alrea...   \n",
      "1           1  16 Jan 2018  This month it fell from 1149Â? to 999Â? in Ger...   \n",
      "2           2  16 Jan 2018  chopp, 16 Jan 2018hey guys iam confused betwee...   \n",
      "3           3  16 Jan 2018  chopp, 16 Jan 2018hey guys iam confused betwee...   \n",
      "4           4  16 Jan 2018  hey guys iam confused between buying iphone x ...   \n",
      "\n",
      "    UserName  \n",
      "0      Mr No  \n",
      "1  Anonymous  \n",
      "2  Anonymous  \n",
      "3       Tony  \n",
      "4  Anonymous  \n"
     ]
    }
   ],
   "source": [
    "import pandas as pd\n",
    "\n",
    "# Load and preprocess dataset\n",
    "df = pd.read_csv(\"/Users/prashanthbandari/iphone_sentiment_analysis/data/cleaned_iphonexreview.csv\")\n",
    "\n",
    "# Print column names to identify the correct one\n",
    "print(\"Columns in dataset:\", df.columns)\n",
    "\n",
    "# Optionally, print the first few rows to understand the data better\n",
    "print(df.head())\n",
    "# Drop unnecessary columns\n",
    "df = df.drop(columns=['Unnamed: 0', 'UserName'])\n"
   ]
  },
  {
   "cell_type": "code",
   "execution_count": null,
   "metadata": {},
   "outputs": [],
   "source": []
  }
 ],
 "metadata": {
  "kernelspec": {
   "display_name": "Python 3 (ipykernel)",
   "language": "python",
   "name": "python3"
  },
  "language_info": {
   "codemirror_mode": {
    "name": "ipython",
    "version": 3
   },
   "file_extension": ".py",
   "mimetype": "text/x-python",
   "name": "python",
   "nbconvert_exporter": "python",
   "pygments_lexer": "ipython3",
   "version": "3.13.1"
  }
 },
 "nbformat": 4,
 "nbformat_minor": 4
}
